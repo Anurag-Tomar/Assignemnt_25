{
  "nbformat": 4,
  "nbformat_minor": 0,
  "metadata": {
    "colab": {
      "name": "Assignment_25.ipynb",
      "provenance": []
    },
    "kernelspec": {
      "name": "python3",
      "display_name": "Python 3"
    },
    "language_info": {
      "name": "python"
    }
  },
  "cells": [
    {
      "cell_type": "markdown",
      "source": [
        "Assignment_25"
      ],
      "metadata": {
        "id": "DncwemdnyY8H"
      }
    },
    {
      "cell_type": "markdown",
      "source": [
        "1) . What is the difference between enclosing a list comprehension in square brackets and parentheses?\n",
        "\n",
        "Ans:Enclosing a list comprehension in square brackets returns a list.but where as enclosing a list comprehe\n",
        "nsion in parentheses returns a **generator** object."
      ],
      "metadata": {
        "id": "MfV1yD5Jyd1Y"
      }
    },
    {
      "cell_type": "code",
      "source": [
        "l = [n*2 for n in range(1000)] # List comprehension\n",
        "g = (n*2 for n in range(1000))  # Generator expression\n",
        "print(type(l))  # 'list'\n",
        "print(type(g))  # 'generator'"
      ],
      "metadata": {
        "colab": {
          "base_uri": "https://localhost:8080/"
        },
        "id": "5R0UB3vj0FX2",
        "outputId": "9c85b1c3-d74a-4ac9-fec2-b567193f7034"
      },
      "execution_count": 1,
      "outputs": [
        {
          "output_type": "stream",
          "name": "stdout",
          "text": [
            "<class 'list'>\n",
            "<class 'generator'>\n"
          ]
        }
      ]
    },
    {
      "cell_type": "markdown",
      "source": [
        "2) What is the relationship between generators and iterators?\n",
        "\n",
        "Ans:An iterator is an object which contains a countable number of values and it is used to iterate over iterable objects like list, tuples, sets, etc. Iterators are implemented using a class and a local variable for iterating is not required.\n",
        "\n",
        "Generator is another way of creating iterators in a simple way where it uses the keyword “yield” instead of returning it in a defined function. Generators are implemented using a function."
      ],
      "metadata": {
        "id": "C5gMIgrxyd4i"
      }
    },
    {
      "cell_type": "markdown",
      "source": [
        "3) What are the signs that a function is a generator function?\n",
        "\n",
        "Ans: A generator function uses a yield statement instead of a return statement. A generator function will always return a iterable object called generator. where as a normal function can return a string/list/tuple/dict/NoneTyp.\n",
        "\n"
      ],
      "metadata": {
        "id": "Ps7jqq5Eyd7y"
      }
    },
    {
      "cell_type": "markdown",
      "source": [
        "4) What is the purpose of a yield statement?\n",
        "\n",
        "\n",
        "Ans: The yield statement suspends function’s execution and sends a value back to the caller, but retains enough state to enable function to resume where it is left off. When resumed, the function continues execution immediately after the last yield run. This allows its code to produce a series of values over time, rather than computing them at once and sending them back like a list."
      ],
      "metadata": {
        "id": "JffQjhu7yd_T"
      }
    },
    {
      "cell_type": "markdown",
      "source": [
        "5) What is the relationship between map calls and list comprehensions? Make a comparison and contrast between the two ?\n",
        "\n",
        "Ans:List comprehension is more concise and easier to read as compared to map. List comprehension are used when a list of results is required as map only returns a map object and does not return any list. Map is faster in case of calling an already defined function (as no lambda is required)."
      ],
      "metadata": {
        "id": "JZfn84Vz2-GA"
      }
    },
    {
      "cell_type": "code",
      "source": [
        ""
      ],
      "metadata": {
        "id": "CGUNUtk1ycTk"
      },
      "execution_count": null,
      "outputs": []
    }
  ]
}